{
 "cells": [
  {
   "cell_type": "code",
   "execution_count": 1,
   "metadata": {},
   "outputs": [
    {
     "name": "stderr",
     "output_type": "stream",
     "text": [
      "Using TensorFlow backend.\n"
     ]
    }
   ],
   "source": [
    "import os,cv2\n",
    "import numpy as np\n",
    "import matplotlib.pyplot as plt\n",
    "\n",
    "from sklearn.utils import shuffle\n",
    "from sklearn.model_selection import train_test_split\n",
    "from keras import backend as K\n",
    "\n",
    "from keras.utils import np_utils\n",
    "from keras import optimizers\n",
    "from keras.models import Sequential\n",
    "from keras.models import Sequential\n",
    "from keras.layers import Conv2D, MaxPooling2D\n",
    "from keras.layers import Activation, Dropout, Flatten, Dense\n",
    "from keras.callbacks import ModelCheckpoint, ReduceLROnPlateau, EarlyStopping\n",
    "\n",
    "from sklearn.metrics import classification_report, confusion_matrix, accuracy_score\n",
    "from keras.models import model_from_json, load_model"
   ]
  },
  {
   "cell_type": "code",
   "execution_count": 2,
   "metadata": {},
   "outputs": [
    {
     "name": "stdout",
     "output_type": "stream",
     "text": [
      "WARNING:tensorflow:From C:\\Users\\rohan\\Anaconda3\\lib\\site-packages\\keras\\backend\\tensorflow_backend.py:95: The name tf.reset_default_graph is deprecated. Please use tf.compat.v1.reset_default_graph instead.\n",
      "\n",
      "WARNING:tensorflow:From C:\\Users\\rohan\\Anaconda3\\lib\\site-packages\\keras\\backend\\tensorflow_backend.py:98: The name tf.placeholder_with_default is deprecated. Please use tf.compat.v1.placeholder_with_default instead.\n",
      "\n",
      "WARNING:tensorflow:From C:\\Users\\rohan\\Anaconda3\\lib\\site-packages\\keras\\backend\\tensorflow_backend.py:102: The name tf.get_default_graph is deprecated. Please use tf.compat.v1.get_default_graph instead.\n",
      "\n",
      "WARNING:tensorflow:From C:\\Users\\rohan\\Anaconda3\\lib\\site-packages\\keras\\backend\\tensorflow_backend.py:517: The name tf.placeholder is deprecated. Please use tf.compat.v1.placeholder instead.\n",
      "\n",
      "WARNING:tensorflow:From C:\\Users\\rohan\\Anaconda3\\lib\\site-packages\\keras\\backend\\tensorflow_backend.py:4138: The name tf.random_uniform is deprecated. Please use tf.random.uniform instead.\n",
      "\n",
      "WARNING:tensorflow:From C:\\Users\\rohan\\Anaconda3\\lib\\site-packages\\keras\\backend\\tensorflow_backend.py:174: The name tf.get_default_session is deprecated. Please use tf.compat.v1.get_default_session instead.\n",
      "\n",
      "WARNING:tensorflow:From C:\\Users\\rohan\\Anaconda3\\lib\\site-packages\\keras\\backend\\tensorflow_backend.py:181: The name tf.ConfigProto is deprecated. Please use tf.compat.v1.ConfigProto instead.\n",
      "\n",
      "WARNING:tensorflow:From C:\\Users\\rohan\\Anaconda3\\lib\\site-packages\\keras\\backend\\tensorflow_backend.py:186: The name tf.Session is deprecated. Please use tf.compat.v1.Session instead.\n",
      "\n",
      "WARNING:tensorflow:From C:\\Users\\rohan\\Anaconda3\\lib\\site-packages\\keras\\backend\\tensorflow_backend.py:190: The name tf.global_variables is deprecated. Please use tf.compat.v1.global_variables instead.\n",
      "\n",
      "WARNING:tensorflow:From C:\\Users\\rohan\\Anaconda3\\lib\\site-packages\\keras\\backend\\tensorflow_backend.py:199: The name tf.is_variable_initialized is deprecated. Please use tf.compat.v1.is_variable_initialized instead.\n",
      "\n",
      "WARNING:tensorflow:From C:\\Users\\rohan\\Anaconda3\\lib\\site-packages\\keras\\backend\\tensorflow_backend.py:206: The name tf.variables_initializer is deprecated. Please use tf.compat.v1.variables_initializer instead.\n",
      "\n",
      "WARNING:tensorflow:From C:\\Users\\rohan\\Anaconda3\\lib\\site-packages\\keras\\backend\\tensorflow_backend.py:3976: The name tf.nn.max_pool is deprecated. Please use tf.nn.max_pool2d instead.\n",
      "\n",
      "_________________________________________________________________\n",
      "Layer (type)                 Output Shape              Param #   \n",
      "=================================================================\n",
      "Conv1 (Conv2D)               (None, 32, 242, 242)      320       \n",
      "_________________________________________________________________\n",
      "M1 (MaxPooling2D)            (None, 32, 121, 121)      0         \n",
      "_________________________________________________________________\n",
      "Conv2 (Conv2D)               (None, 64, 119, 119)      18496     \n",
      "_________________________________________________________________\n",
      "M2 (MaxPooling2D)            (None, 64, 59, 59)        0         \n",
      "_________________________________________________________________\n",
      "Flatten (Flatten)            (None, 222784)            0         \n",
      "_________________________________________________________________\n",
      "Dense1 (Dense)               (None, 64)                14258240  \n",
      "_________________________________________________________________\n",
      "Dense2 (Dense)               (None, 4)                 260       \n",
      "=================================================================\n",
      "Total params: 14,277,316\n",
      "Trainable params: 14,277,316\n",
      "Non-trainable params: 0\n",
      "_________________________________________________________________\n"
     ]
    }
   ],
   "source": [
    "K.clear_session() # Clear previous models from memory.\n",
    "\n",
    "json_file = open('bacteria_model.json', 'r')\n",
    "loaded_model_json = json_file.read()\n",
    "json_file.close()\n",
    "\n",
    "loaded_model = model_from_json(loaded_model_json)\n",
    "loaded_model.load_weights(\"bacteria-classifier.h5\")\n",
    "#loaded_model=load_model('bacteria-classifier.h5')\n",
    "\n",
    "loaded_model.summary()\n"
   ]
  },
  {
   "cell_type": "code",
   "execution_count": 3,
   "metadata": {},
   "outputs": [
    {
     "name": "stdout",
     "output_type": "stream",
     "text": [
      "['Train', 'Validation']\n",
      "C:\\Users\\rohan\\Documents\\Project - Deep Learning/dataset/Validation\n",
      "Loading the images of dataset-Candida_albicans\n",
      "\n",
      "Loading the images of dataset-Clostridium_perfringens\n",
      "\n",
      "Loading the images of dataset-Lactobacillus_paracasei\n",
      "\n",
      "Loading the images of dataset-Staphylococcus_saprophiticus\n",
      "\n"
     ]
    }
   ],
   "source": [
    "PATH = os.getcwd()\n",
    "data_path = PATH + '/dataset'\n",
    "data_dir_list = os.listdir(data_path)\n",
    "print(data_dir_list)\n",
    "va_labels_name={'Candida_albicans':0,'Clostridium_perfringens':1,'Lactobacillus_paracasei':2,'Staphylococcus_saprophiticus':3}\n",
    "\n",
    "validation_image_list=[]\n",
    "validation_label_list=[]\n",
    "\n",
    "validation_data_path = PATH + '/dataset/Validation'\n",
    "validation_data_dir_list = os.listdir(validation_data_path)\n",
    "print(validation_data_path)\n",
    "\n",
    "for folders in validation_data_dir_list:\n",
    "    va_img_list=os.listdir(validation_data_path+'/'+ folders)\n",
    "    print ('Loading the images of dataset-'+'{}\\n'.format(folders))\n",
    "    label = va_labels_name[folders]\n",
    "\n",
    "    for img in va_img_list:\n",
    "        input_img=cv2.imread(validation_data_path + '/'+ folders + '/'+ img )\n",
    "        input_img=cv2.cvtColor(input_img, cv2.COLOR_BGR2GRAY)\n",
    "        validation_image_list.append(input_img)\n",
    "        validation_label_list.append(label)"
   ]
  },
  {
   "cell_type": "code",
   "execution_count": 4,
   "metadata": {},
   "outputs": [
    {
     "name": "stdout",
     "output_type": "stream",
     "text": [
      "[0 1 2 3]\n",
      "(1438, 4)\n",
      "[[1. 0. 0. 0.]\n",
      " [1. 0. 0. 0.]\n",
      " [1. 0. 0. 0.]\n",
      " ...\n",
      " [0. 0. 0. 1.]\n",
      " [0. 0. 0. 1.]\n",
      " [0. 0. 0. 1.]]\n",
      "(1438, 1, 244, 244)\n"
     ]
    }
   ],
   "source": [
    "va_Images = np.array(validation_image_list)\n",
    "va_Images = va_Images.astype('float32')\n",
    "va_Labels = np.array(validation_label_list)\n",
    "print(np.unique(va_Labels))\n",
    "va_Labels = np_utils.to_categorical(va_Labels)\n",
    "print(va_Labels.shape)\n",
    "print(va_Labels)\n",
    "va_Images = va_Images.reshape(va_Images.shape[0],1, 244, 244).astype('float32')\n",
    "## converting the pixel values in terms of zero and ones using min max scaling\n",
    "va_Images = (va_Images-np.min(va_Images))/(np.max(va_Images)-np.min(va_Images))\n",
    "print(va_Images.shape)\n",
    "\n",
    "testPred = loaded_model.predict_classes(va_Images)\n",
    "predProbabilities = loaded_model.predict(va_Images)"
   ]
  },
  {
   "cell_type": "code",
   "execution_count": 5,
   "metadata": {},
   "outputs": [
    {
     "name": "stdout",
     "output_type": "stream",
     "text": [
      "Classification report \n",
      "              precision    recall  f1-score   support\n",
      "\n",
      "           0       0.98      0.92      0.95       426\n",
      "           1       0.85      0.78      0.81       282\n",
      "           2       0.98      1.00      0.99       377\n",
      "           3       0.85      0.95      0.90       353\n",
      "\n",
      "    accuracy                           0.92      1438\n",
      "   macro avg       0.92      0.91      0.91      1438\n",
      "weighted avg       0.92      0.92      0.92      1438\n",
      "\n"
     ]
    }
   ],
   "source": [
    "np.savetxt(\"bacteria_pred.csv\", testPred, fmt=\"%s\", delimiter=\" \", newline=\"\\n\")\n",
    "np.savetxt(\"bacteria_pred_probabilities.csv\", predProbabilities, fmt=\"%s\", delimiter=\" \", newline=\"\\n\")\n",
    "\n",
    "testLabelsOriginal = np.argmax(va_Labels, axis=1)\n",
    "\n",
    "print(\"Classification report \")\n",
    "print(classification_report(y_true=testLabelsOriginal, y_pred=testPred))"
   ]
  },
  {
   "cell_type": "code",
   "execution_count": 6,
   "metadata": {},
   "outputs": [
    {
     "name": "stdout",
     "output_type": "stream",
     "text": [
      "Confusion matrix \n",
      "[[394  31   0   1]\n",
      " [  1 219   3  59]\n",
      " [  0   0 377   0]\n",
      " [  5   8   3 337]]\n",
      "\n",
      "\n"
     ]
    }
   ],
   "source": [
    "print(\"Confusion matrix \")\n",
    "print(confusion_matrix(y_true=testLabelsOriginal, y_pred=testPred))\n",
    "print(\"\\n\")"
   ]
  },
  {
   "cell_type": "code",
   "execution_count": 7,
   "metadata": {},
   "outputs": [
    {
     "name": "stdout",
     "output_type": "stream",
     "text": [
      "Class:  2\n"
     ]
    }
   ],
   "source": [
    "testPred = loaded_model.predict_classes(va_Images[1000].reshape(va_Images[1000].shape[0],1, 244, 244).astype('float32'))\n",
    "prediction = testPred[0]\n",
    "print(\"Class: \",prediction)\n"
   ]
  },
  {
   "cell_type": "code",
   "execution_count": null,
   "metadata": {},
   "outputs": [],
   "source": []
  }
 ],
 "metadata": {
  "kernelspec": {
   "display_name": "Python 3",
   "language": "python",
   "name": "python3"
  },
  "language_info": {
   "codemirror_mode": {
    "name": "ipython",
    "version": 3
   },
   "file_extension": ".py",
   "mimetype": "text/x-python",
   "name": "python",
   "nbconvert_exporter": "python",
   "pygments_lexer": "ipython3",
   "version": "3.7.3"
  }
 },
 "nbformat": 4,
 "nbformat_minor": 2
}
